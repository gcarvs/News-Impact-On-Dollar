{
 "cells": [
  {
   "cell_type": "code",
   "execution_count": 8,
   "metadata": {},
   "outputs": [],
   "source": [
    "import json\n",
    "import numpy as np\n",
    "import pandas as pd\n",
    "import unidecode\n",
    "from pandas.io.json import json_normalize\n"
   ]
  },
  {
   "cell_type": "markdown",
   "metadata": {},
   "source": [
    "## Creating the news dataframe\n",
    "The first step is import the news dataset and creating a Pandas Dataframe"
   ]
  },
  {
   "cell_type": "code",
   "execution_count": 9,
   "metadata": {},
   "outputs": [
    {
     "data": {
      "text/html": [
       "<div>\n",
       "<style scoped>\n",
       "    .dataframe tbody tr th:only-of-type {\n",
       "        vertical-align: middle;\n",
       "    }\n",
       "\n",
       "    .dataframe tbody tr th {\n",
       "        vertical-align: top;\n",
       "    }\n",
       "\n",
       "    .dataframe thead th {\n",
       "        text-align: right;\n",
       "    }\n",
       "</style>\n",
       "<table border=\"1\" class=\"dataframe\">\n",
       "  <thead>\n",
       "    <tr style=\"text-align: right;\">\n",
       "      <th></th>\n",
       "      <th>authors</th>\n",
       "      <th>categories</th>\n",
       "      <th>date_published</th>\n",
       "      <th>link</th>\n",
       "      <th>locations</th>\n",
       "      <th>news_body</th>\n",
       "      <th>sub_title</th>\n",
       "      <th>title</th>\n",
       "    </tr>\n",
       "  </thead>\n",
       "  <tbody>\n",
       "    <tr>\n",
       "      <th>0</th>\n",
       "      <td>[gustavo uribe, ricardo della coletta]</td>\n",
       "      <td>[poder, governo_bolsonaro, lava_jato, legislat...</td>\n",
       "      <td>2019-08-29 16:01:00</td>\n",
       "      <td>https://www1.folha.uol.com.br/poder/2019/08/em...</td>\n",
       "      <td>[brasília]</td>\n",
       "      <td>na tentativa de negar que tenha havido um , o ...</td>\n",
       "      <td>governo escalou 4 governadores e 12 ministros ...</td>\n",
       "      <td>em esforço para negar desgaste, bolsonaro cham...</td>\n",
       "    </tr>\n",
       "    <tr>\n",
       "      <th>1</th>\n",
       "      <td>[daniel carvalho, thiago resende]</td>\n",
       "      <td>[mercado, mercado_financeiro, previdência, tec...</td>\n",
       "      <td>2019-08-28 12:10:00</td>\n",
       "      <td>https://www1.folha.uol.com.br/mercado/2019/08/...</td>\n",
       "      <td>[brasília]</td>\n",
       "      <td>a pauta econômica tornou-se motivo para uma no...</td>\n",
       "      <td>imbróglio começa pela disputa por protagonismo...</td>\n",
       "      <td>câmara e senado travam nova guerra por pauta e...</td>\n",
       "    </tr>\n",
       "    <tr>\n",
       "      <th>2</th>\n",
       "      <td>[felipe bächtold, wálter nunes, reynaldo turol...</td>\n",
       "      <td>[poder, governo_bolsonaro, lava_jato, legislat...</td>\n",
       "      <td>2019-08-28 08:09:00</td>\n",
       "      <td>https://www1.folha.uol.com.br/poder/2019/08/se...</td>\n",
       "      <td>[são_paulo]</td>\n",
       "      <td>a sentença que condenou o ex-presidente lula n...</td>\n",
       "      <td>nesta terça-feira, supremo anulou pela primeir...</td>\n",
       "      <td>sentença em caso do sítio usado por lula é sem...</td>\n",
       "    </tr>\n",
       "    <tr>\n",
       "      <th>3</th>\n",
       "      <td>[ranier bragon]</td>\n",
       "      <td>[poder, governo_bolsonaro, lava_jato, legislat...</td>\n",
       "      <td>2019-08-27 19:52:00</td>\n",
       "      <td>https://www1.folha.uol.com.br/poder/2019/08/so...</td>\n",
       "      <td>[brasília]</td>\n",
       "      <td>após desgaste político e em meio à situação cr...</td>\n",
       "      <td>congresso irá definir no final do ano valor da...</td>\n",
       "      <td>sob pressão, relator desiste da proposta de en...</td>\n",
       "    </tr>\n",
       "    <tr>\n",
       "      <th>4</th>\n",
       "      <td>[daniel carvalho, thiago resende]</td>\n",
       "      <td>[poder, governo_bolsonaro, lava_jato, legislat...</td>\n",
       "      <td>2019-08-28 12:30:00</td>\n",
       "      <td>https://www1.folha.uol.com.br/poder/2019/08/co...</td>\n",
       "      <td>[brasília]</td>\n",
       "      <td>diante da , parlamentares e articuladores do g...</td>\n",
       "      <td>presidentes de câmara e senado buscam apazigua...</td>\n",
       "      <td>congresso tenta blindar reformas e projetos de...</td>\n",
       "    </tr>\n",
       "  </tbody>\n",
       "</table>\n",
       "</div>"
      ],
      "text/plain": [
       "                                             authors  \\\n",
       "0             [gustavo uribe, ricardo della coletta]   \n",
       "1                  [daniel carvalho, thiago resende]   \n",
       "2  [felipe bächtold, wálter nunes, reynaldo turol...   \n",
       "3                                    [ranier bragon]   \n",
       "4                  [daniel carvalho, thiago resende]   \n",
       "\n",
       "                                          categories       date_published  \\\n",
       "0  [poder, governo_bolsonaro, lava_jato, legislat...  2019-08-29 16:01:00   \n",
       "1  [mercado, mercado_financeiro, previdência, tec...  2019-08-28 12:10:00   \n",
       "2  [poder, governo_bolsonaro, lava_jato, legislat...  2019-08-28 08:09:00   \n",
       "3  [poder, governo_bolsonaro, lava_jato, legislat...  2019-08-27 19:52:00   \n",
       "4  [poder, governo_bolsonaro, lava_jato, legislat...  2019-08-28 12:30:00   \n",
       "\n",
       "                                                link    locations  \\\n",
       "0  https://www1.folha.uol.com.br/poder/2019/08/em...   [brasília]   \n",
       "1  https://www1.folha.uol.com.br/mercado/2019/08/...   [brasília]   \n",
       "2  https://www1.folha.uol.com.br/poder/2019/08/se...  [são_paulo]   \n",
       "3  https://www1.folha.uol.com.br/poder/2019/08/so...   [brasília]   \n",
       "4  https://www1.folha.uol.com.br/poder/2019/08/co...   [brasília]   \n",
       "\n",
       "                                           news_body  \\\n",
       "0  na tentativa de negar que tenha havido um , o ...   \n",
       "1  a pauta econômica tornou-se motivo para uma no...   \n",
       "2  a sentença que condenou o ex-presidente lula n...   \n",
       "3  após desgaste político e em meio à situação cr...   \n",
       "4  diante da , parlamentares e articuladores do g...   \n",
       "\n",
       "                                           sub_title  \\\n",
       "0  governo escalou 4 governadores e 12 ministros ...   \n",
       "1  imbróglio começa pela disputa por protagonismo...   \n",
       "2  nesta terça-feira, supremo anulou pela primeir...   \n",
       "3  congresso irá definir no final do ano valor da...   \n",
       "4  presidentes de câmara e senado buscam apazigua...   \n",
       "\n",
       "                                               title  \n",
       "0  em esforço para negar desgaste, bolsonaro cham...  \n",
       "1  câmara e senado travam nova guerra por pauta e...  \n",
       "2  sentença em caso do sítio usado por lula é sem...  \n",
       "3  sob pressão, relator desiste da proposta de en...  \n",
       "4  congresso tenta blindar reformas e projetos de...  "
      ]
     },
     "execution_count": 9,
     "metadata": {},
     "output_type": "execute_result"
    }
   ],
   "source": [
    "news_data_file = open('../datasets/raw-data/folha_de_sao_paulo_news.json', 'r')\n",
    "news_json = json.load(news_data_file)\n",
    "\n",
    "news_df = json_normalize(news_json['news'])\n",
    "\n",
    "news_df.head(5)"
   ]
  },
  {
   "cell_type": "markdown",
   "metadata": {},
   "source": [
    "# Selecting only the columns that we are going to feed into the Neural Network"
   ]
  },
  {
   "cell_type": "code",
   "execution_count": 10,
   "metadata": {},
   "outputs": [
    {
     "data": {
      "text/html": [
       "<div>\n",
       "<style scoped>\n",
       "    .dataframe tbody tr th:only-of-type {\n",
       "        vertical-align: middle;\n",
       "    }\n",
       "\n",
       "    .dataframe tbody tr th {\n",
       "        vertical-align: top;\n",
       "    }\n",
       "\n",
       "    .dataframe thead th {\n",
       "        text-align: right;\n",
       "    }\n",
       "</style>\n",
       "<table border=\"1\" class=\"dataframe\">\n",
       "  <thead>\n",
       "    <tr style=\"text-align: right;\">\n",
       "      <th></th>\n",
       "      <th>date_published</th>\n",
       "      <th>text</th>\n",
       "    </tr>\n",
       "  </thead>\n",
       "  <tbody>\n",
       "    <tr>\n",
       "      <th>0</th>\n",
       "      <td>2019-08-29 16:01:00</td>\n",
       "      <td>em esforço para negar desgaste, bolsonaro cham...</td>\n",
       "    </tr>\n",
       "    <tr>\n",
       "      <th>1</th>\n",
       "      <td>2019-08-28 12:10:00</td>\n",
       "      <td>câmara e senado travam nova guerra por pauta e...</td>\n",
       "    </tr>\n",
       "    <tr>\n",
       "      <th>2</th>\n",
       "      <td>2019-08-28 08:09:00</td>\n",
       "      <td>sentença em caso do sítio usado por lula é sem...</td>\n",
       "    </tr>\n",
       "    <tr>\n",
       "      <th>3</th>\n",
       "      <td>2019-08-27 19:52:00</td>\n",
       "      <td>sob pressão, relator desiste da proposta de en...</td>\n",
       "    </tr>\n",
       "    <tr>\n",
       "      <th>4</th>\n",
       "      <td>2019-08-28 12:30:00</td>\n",
       "      <td>congresso tenta blindar reformas e projetos de...</td>\n",
       "    </tr>\n",
       "  </tbody>\n",
       "</table>\n",
       "</div>"
      ],
      "text/plain": [
       "        date_published                                               text\n",
       "0  2019-08-29 16:01:00  em esforço para negar desgaste, bolsonaro cham...\n",
       "1  2019-08-28 12:10:00  câmara e senado travam nova guerra por pauta e...\n",
       "2  2019-08-28 08:09:00  sentença em caso do sítio usado por lula é sem...\n",
       "3  2019-08-27 19:52:00  sob pressão, relator desiste da proposta de en...\n",
       "4  2019-08-28 12:30:00  congresso tenta blindar reformas e projetos de..."
      ]
     },
     "execution_count": 10,
     "metadata": {},
     "output_type": "execute_result"
    }
   ],
   "source": [
    "news_df['text'] = news_df['title'] + \". \" + news_df['sub_title'] + \". \" + news_df['news_body']\n",
    "news_df = news_df[['date_published', 'text']]\n",
    "\n",
    "news_df.head(5)"
   ]
  },
  {
   "cell_type": "markdown",
   "metadata": {},
   "source": [
    "# Saving the clean dataset into a file"
   ]
  },
  {
   "cell_type": "code",
   "execution_count": 11,
   "metadata": {},
   "outputs": [],
   "source": [
    "news_df.to_csv('../datasets/pre-processed/news.csv', index= False, encoding='utf-8')"
   ]
  },
  {
   "cell_type": "code",
   "execution_count": null,
   "metadata": {},
   "outputs": [],
   "source": []
  }
 ],
 "metadata": {
  "kernelspec": {
   "display_name": "Python 3",
   "language": "python",
   "name": "python3"
  },
  "language_info": {
   "codemirror_mode": {
    "name": "ipython",
    "version": 3
   },
   "file_extension": ".py",
   "mimetype": "text/x-python",
   "name": "python",
   "nbconvert_exporter": "python",
   "pygments_lexer": "ipython3",
   "version": "3.7.3"
  }
 },
 "nbformat": 4,
 "nbformat_minor": 2
}
