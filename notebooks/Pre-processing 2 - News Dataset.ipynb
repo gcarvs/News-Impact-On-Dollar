{
 "cells": [
  {
   "cell_type": "code",
   "execution_count": 1,
   "metadata": {},
   "outputs": [],
   "source": [
    "import json\n",
    "import numpy as np\n",
    "import pandas as pd\n",
    "from pandas.io.json import json_normalize\n"
   ]
  },
  {
   "cell_type": "markdown",
   "metadata": {},
   "source": [
    "## Creating the news dataframe\n",
    "The first step is import the news dataset and creating a Pandas Dataframe"
   ]
  },
  {
   "cell_type": "code",
   "execution_count": 2,
   "metadata": {},
   "outputs": [
    {
     "data": {
      "text/html": [
       "<div>\n",
       "<style scoped>\n",
       "    .dataframe tbody tr th:only-of-type {\n",
       "        vertical-align: middle;\n",
       "    }\n",
       "\n",
       "    .dataframe tbody tr th {\n",
       "        vertical-align: top;\n",
       "    }\n",
       "\n",
       "    .dataframe thead th {\n",
       "        text-align: right;\n",
       "    }\n",
       "</style>\n",
       "<table border=\"1\" class=\"dataframe\">\n",
       "  <thead>\n",
       "    <tr style=\"text-align: right;\">\n",
       "      <th></th>\n",
       "      <th>authors</th>\n",
       "      <th>categories</th>\n",
       "      <th>date_published</th>\n",
       "      <th>link</th>\n",
       "      <th>locations</th>\n",
       "      <th>news_body</th>\n",
       "      <th>sub_title</th>\n",
       "      <th>title</th>\n",
       "    </tr>\n",
       "  </thead>\n",
       "  <tbody>\n",
       "    <tr>\n",
       "      <th>0</th>\n",
       "      <td>[talita fernandes]</td>\n",
       "      <td>[poder, governo_bolsonaro, lava_jato, legislat...</td>\n",
       "      <td>2019-05-28 22:40:00</td>\n",
       "      <td>https://www1.folha.uol.com.br/poder/2019/05/bo...</td>\n",
       "      <td>[brasília]</td>\n",
       "      <td>, jair bolsonaro (psl) afirmou ter mais poder ...</td>\n",
       "      <td>durante evento, presidente comentou encontro q...</td>\n",
       "      <td>bolsonaro diz ter mais poder que maia por ter ...</td>\n",
       "    </tr>\n",
       "    <tr>\n",
       "      <th>1</th>\n",
       "      <td>[julio wiziack, gustavo uribe]</td>\n",
       "      <td>[mercado, mercado_financeiro, previdência, tec...</td>\n",
       "      <td>2019-05-28 12:46:00</td>\n",
       "      <td>https://www1.folha.uol.com.br/mercado/2019/05/...</td>\n",
       "      <td>[brasília]</td>\n",
       "      <td>confederações patronais que não estão alinhada...</td>\n",
       "      <td>estamos trabalhando para que ela seja aprovada...</td>\n",
       "      <td>por corte menor, sistema s promete a bolsonaro...</td>\n",
       "    </tr>\n",
       "    <tr>\n",
       "      <th>2</th>\n",
       "      <td>[daniel carvalho]</td>\n",
       "      <td>[poder, governo_bolsonaro, lava_jato, legislat...</td>\n",
       "      <td>2019-05-28 11:16:00</td>\n",
       "      <td>https://www1.folha.uol.com.br/poder/2019/05/ma...</td>\n",
       "      <td>[brasília]</td>\n",
       "      <td>o líder do psl no senado, major olímpio (sp), ...</td>\n",
       "      <td>ministro da justiça telefonou ao senador para ...</td>\n",
       "      <td>major olímpio sobre moro: \"não dá para defende...</td>\n",
       "    </tr>\n",
       "    <tr>\n",
       "      <th>3</th>\n",
       "      <td>[carolina linhares]</td>\n",
       "      <td>[poder, governo_bolsonaro, lava_jato, legislat...</td>\n",
       "      <td>2019-05-28 02:00:00</td>\n",
       "      <td>https://www1.folha.uol.com.br/poder/2019/05/do...</td>\n",
       "      <td>[são_paulo]</td>\n",
       "      <td>na última sexta (24), quando o afirmou que est...</td>\n",
       "      <td>alvo de processo de expulsão, fernando guimarã...</td>\n",
       "      <td>doria é stalinista ao dizer que quem não conco...</td>\n",
       "    </tr>\n",
       "    <tr>\n",
       "      <th>4</th>\n",
       "      <td>[NO AUTHOR]</td>\n",
       "      <td>[poder, governo_bolsonaro, lava_jato, legislat...</td>\n",
       "      <td>2019-05-28 10:24:00</td>\n",
       "      <td>https://www1.folha.uol.com.br/poder/2019/05/pl...</td>\n",
       "      <td>[brasília]</td>\n",
       "      <td>o presidente jair bolsonaro discutiu nesta ter...</td>\n",
       "      <td>segundo esboço de documento, texto destaca ref...</td>\n",
       "      <td>planalto, congresso e stf combinam assinar pac...</td>\n",
       "    </tr>\n",
       "  </tbody>\n",
       "</table>\n",
       "</div>"
      ],
      "text/plain": [
       "                          authors  \\\n",
       "0              [talita fernandes]   \n",
       "1  [julio wiziack, gustavo uribe]   \n",
       "2               [daniel carvalho]   \n",
       "3             [carolina linhares]   \n",
       "4                     [NO AUTHOR]   \n",
       "\n",
       "                                          categories       date_published  \\\n",
       "0  [poder, governo_bolsonaro, lava_jato, legislat...  2019-05-28 22:40:00   \n",
       "1  [mercado, mercado_financeiro, previdência, tec...  2019-05-28 12:46:00   \n",
       "2  [poder, governo_bolsonaro, lava_jato, legislat...  2019-05-28 11:16:00   \n",
       "3  [poder, governo_bolsonaro, lava_jato, legislat...  2019-05-28 02:00:00   \n",
       "4  [poder, governo_bolsonaro, lava_jato, legislat...  2019-05-28 10:24:00   \n",
       "\n",
       "                                                link    locations  \\\n",
       "0  https://www1.folha.uol.com.br/poder/2019/05/bo...   [brasília]   \n",
       "1  https://www1.folha.uol.com.br/mercado/2019/05/...   [brasília]   \n",
       "2  https://www1.folha.uol.com.br/poder/2019/05/ma...   [brasília]   \n",
       "3  https://www1.folha.uol.com.br/poder/2019/05/do...  [são_paulo]   \n",
       "4  https://www1.folha.uol.com.br/poder/2019/05/pl...   [brasília]   \n",
       "\n",
       "                                           news_body  \\\n",
       "0  , jair bolsonaro (psl) afirmou ter mais poder ...   \n",
       "1  confederações patronais que não estão alinhada...   \n",
       "2  o líder do psl no senado, major olímpio (sp), ...   \n",
       "3  na última sexta (24), quando o afirmou que est...   \n",
       "4  o presidente jair bolsonaro discutiu nesta ter...   \n",
       "\n",
       "                                           sub_title  \\\n",
       "0  durante evento, presidente comentou encontro q...   \n",
       "1  estamos trabalhando para que ela seja aprovada...   \n",
       "2  ministro da justiça telefonou ao senador para ...   \n",
       "3  alvo de processo de expulsão, fernando guimarã...   \n",
       "4  segundo esboço de documento, texto destaca ref...   \n",
       "\n",
       "                                               title  \n",
       "0  bolsonaro diz ter mais poder que maia por ter ...  \n",
       "1  por corte menor, sistema s promete a bolsonaro...  \n",
       "2  major olímpio sobre moro: \"não dá para defende...  \n",
       "3  doria é stalinista ao dizer que quem não conco...  \n",
       "4  planalto, congresso e stf combinam assinar pac...  "
      ]
     },
     "execution_count": 2,
     "metadata": {},
     "output_type": "execute_result"
    }
   ],
   "source": [
    "news_data_file = open('../datasets/raw-data/folha_de_sao_paulo_news.json', 'r')\n",
    "news_json = json.load(news_data_file)\n",
    "\n",
    "news_df = json_normalize(news_json['news'])\n",
    "\n",
    "news_df.head(5)"
   ]
  },
  {
   "cell_type": "markdown",
   "metadata": {},
   "source": [
    "# Selecting only the columns that we are going to feed into the Neural Network"
   ]
  },
  {
   "cell_type": "code",
   "execution_count": 3,
   "metadata": {},
   "outputs": [
    {
     "data": {
      "text/html": [
       "<div>\n",
       "<style scoped>\n",
       "    .dataframe tbody tr th:only-of-type {\n",
       "        vertical-align: middle;\n",
       "    }\n",
       "\n",
       "    .dataframe tbody tr th {\n",
       "        vertical-align: top;\n",
       "    }\n",
       "\n",
       "    .dataframe thead th {\n",
       "        text-align: right;\n",
       "    }\n",
       "</style>\n",
       "<table border=\"1\" class=\"dataframe\">\n",
       "  <thead>\n",
       "    <tr style=\"text-align: right;\">\n",
       "      <th></th>\n",
       "      <th>date_published</th>\n",
       "      <th>text</th>\n",
       "    </tr>\n",
       "  </thead>\n",
       "  <tbody>\n",
       "    <tr>\n",
       "      <th>0</th>\n",
       "      <td>2019-05-28 22:40:00</td>\n",
       "      <td>bolsonaro diz ter mais poder que maia por ter ...</td>\n",
       "    </tr>\n",
       "    <tr>\n",
       "      <th>1</th>\n",
       "      <td>2019-05-28 12:46:00</td>\n",
       "      <td>por corte menor, sistema s promete a bolsonaro...</td>\n",
       "    </tr>\n",
       "    <tr>\n",
       "      <th>2</th>\n",
       "      <td>2019-05-28 11:16:00</td>\n",
       "      <td>major olímpio sobre moro: \"não dá para defende...</td>\n",
       "    </tr>\n",
       "    <tr>\n",
       "      <th>3</th>\n",
       "      <td>2019-05-28 02:00:00</td>\n",
       "      <td>doria é stalinista ao dizer que quem não conco...</td>\n",
       "    </tr>\n",
       "    <tr>\n",
       "      <th>4</th>\n",
       "      <td>2019-05-28 10:24:00</td>\n",
       "      <td>planalto, congresso e stf combinam assinar pac...</td>\n",
       "    </tr>\n",
       "  </tbody>\n",
       "</table>\n",
       "</div>"
      ],
      "text/plain": [
       "        date_published                                               text\n",
       "0  2019-05-28 22:40:00  bolsonaro diz ter mais poder que maia por ter ...\n",
       "1  2019-05-28 12:46:00  por corte menor, sistema s promete a bolsonaro...\n",
       "2  2019-05-28 11:16:00  major olímpio sobre moro: \"não dá para defende...\n",
       "3  2019-05-28 02:00:00  doria é stalinista ao dizer que quem não conco...\n",
       "4  2019-05-28 10:24:00  planalto, congresso e stf combinam assinar pac..."
      ]
     },
     "execution_count": 3,
     "metadata": {},
     "output_type": "execute_result"
    }
   ],
   "source": [
    "news_df['text'] = news_df['title'] + '. ' + news_df['sub_title'] + '. ' + news_df['news_body']\n",
    "#news_df['text'] = news_df['title']\n",
    "news_df = news_df[['date_published', 'text']]\n",
    "\n",
    "news_df.head(5)"
   ]
  },
  {
   "cell_type": "markdown",
   "metadata": {},
   "source": [
    "# Saving the clean dataset into a file"
   ]
  },
  {
   "cell_type": "code",
   "execution_count": 4,
   "metadata": {},
   "outputs": [],
   "source": [
    "news_df.to_csv('../datasets/pre-processed/news.csv', index= False, encoding='utf-8')"
   ]
  },
  {
   "cell_type": "code",
   "execution_count": null,
   "metadata": {},
   "outputs": [],
   "source": []
  }
 ],
 "metadata": {
  "kernelspec": {
   "display_name": "Python 3",
   "language": "python",
   "name": "python3"
  },
  "language_info": {
   "codemirror_mode": {
    "name": "ipython",
    "version": 3
   },
   "file_extension": ".py",
   "mimetype": "text/x-python",
   "name": "python",
   "nbconvert_exporter": "python",
   "pygments_lexer": "ipython3",
   "version": "3.7.3"
  }
 },
 "nbformat": 4,
 "nbformat_minor": 2
}
