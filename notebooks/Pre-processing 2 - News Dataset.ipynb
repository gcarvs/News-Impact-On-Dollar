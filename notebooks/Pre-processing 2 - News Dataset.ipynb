{
 "cells": [
  {
   "cell_type": "code",
   "execution_count": 6,
   "metadata": {},
   "outputs": [],
   "source": [
    "import json\n",
    "import numpy as np\n",
    "import pandas as pd\n",
    "import unidecode\n"
   ]
  },
  {
   "cell_type": "markdown",
   "metadata": {},
   "source": [
    "## Creating the news dataframe\n",
    "The first step is import the news dataset and creating a Pandas Dataframe"
   ]
  },
  {
   "cell_type": "code",
   "execution_count": 7,
   "metadata": {},
   "outputs": [
    {
     "data": {
      "text/html": [
       "<div>\n",
       "<style scoped>\n",
       "    .dataframe tbody tr th:only-of-type {\n",
       "        vertical-align: middle;\n",
       "    }\n",
       "\n",
       "    .dataframe tbody tr th {\n",
       "        vertical-align: top;\n",
       "    }\n",
       "\n",
       "    .dataframe thead th {\n",
       "        text-align: right;\n",
       "    }\n",
       "</style>\n",
       "<table border=\"1\" class=\"dataframe\">\n",
       "  <thead>\n",
       "    <tr style=\"text-align: right;\">\n",
       "      <th></th>\n",
       "      <th>authors</th>\n",
       "      <th>categories</th>\n",
       "      <th>date_published</th>\n",
       "      <th>link</th>\n",
       "      <th>locations</th>\n",
       "      <th>news_body</th>\n",
       "      <th>sub_title</th>\n",
       "      <th>title</th>\n",
       "    </tr>\n",
       "  </thead>\n",
       "  <tbody>\n",
       "    <tr>\n",
       "      <th>0</th>\n",
       "      <td>[thiago resende]</td>\n",
       "      <td>[mercado, indústria_4.0, tec, folhainvest, mer...</td>\n",
       "      <td>2019-06-27 21:01:00</td>\n",
       "      <td>https://www1.folha.uol.com.br/mercado/2019/06/...</td>\n",
       "      <td>[brasília]</td>\n",
       "      <td>uma conjunção de fatores, como de categorias, ...</td>\n",
       "      <td>perto da reta final em comissão na câmara, pro...</td>\n",
       "      <td>desarticulação, pressão de partidos e lobby de...</td>\n",
       "    </tr>\n",
       "    <tr>\n",
       "      <th>1</th>\n",
       "      <td>[camila mattoso, ranier bragon]</td>\n",
       "      <td>[poder, governo_bolsonaro, lava_jato, legislat...</td>\n",
       "      <td>2019-06-27 07:54:00</td>\n",
       "      <td>https://www1.folha.uol.com.br/poder/2019/06/pf...</td>\n",
       "      <td>[brasília]</td>\n",
       "      <td>a polícia federal prendeu na manhã desta quint...</td>\n",
       "      <td>ação deflagrada mira candidaturas laranjas pat...</td>\n",
       "      <td>pf prende assessores de ministro do turismo em...</td>\n",
       "    </tr>\n",
       "    <tr>\n",
       "      <th>2</th>\n",
       "      <td>[NO AUTHOR]</td>\n",
       "      <td>[mercado, indústria_4.0, tec, folhainvest, mer...</td>\n",
       "      <td>2019-06-27 10:41:00</td>\n",
       "      <td>https://www1.folha.uol.com.br/mercado/2019/06/...</td>\n",
       "      <td>[paris, reuters]</td>\n",
       "      <td>o presidente francês, emmanuel macron, afirmou...</td>\n",
       "      <td>frança está preocupada com impacto sobre sua i...</td>\n",
       "      <td>macron diz que não terá acordo com mercosul se...</td>\n",
       "    </tr>\n",
       "    <tr>\n",
       "      <th>3</th>\n",
       "      <td>[júlia moura]</td>\n",
       "      <td>[mercado, indústria_4.0, tec, folhainvest, mer...</td>\n",
       "      <td>2019-06-27 17:33:00</td>\n",
       "      <td>https://www1.folha.uol.com.br/mercado/2019/06/...</td>\n",
       "      <td>[são_paulo]</td>\n",
       "      <td>o e a indecisão sobre a inclusão de estados e ...</td>\n",
       "      <td>ibovespa chegou a recuar 1,26% nesta quinta, m...</td>\n",
       "      <td>maia contém apreensão com atraso na previdênci...</td>\n",
       "    </tr>\n",
       "    <tr>\n",
       "      <th>4</th>\n",
       "      <td>[daniel carvalho]</td>\n",
       "      <td>[mercado, indústria_4.0, tec, folhainvest, mer...</td>\n",
       "      <td>2019-06-27 16:58:00</td>\n",
       "      <td>https://www1.folha.uol.com.br/mercado/2019/06/...</td>\n",
       "      <td>[brasília]</td>\n",
       "      <td>o ministro da economia, paulo guedes, disse ne...</td>\n",
       "      <td>presidente do senado disse que haverá conversa...</td>\n",
       "      <td>guedes defende estados na previdência para que...</td>\n",
       "    </tr>\n",
       "  </tbody>\n",
       "</table>\n",
       "</div>"
      ],
      "text/plain": [
       "                           authors  \\\n",
       "0                 [thiago resende]   \n",
       "1  [camila mattoso, ranier bragon]   \n",
       "2                      [NO AUTHOR]   \n",
       "3                    [júlia moura]   \n",
       "4                [daniel carvalho]   \n",
       "\n",
       "                                          categories       date_published  \\\n",
       "0  [mercado, indústria_4.0, tec, folhainvest, mer...  2019-06-27 21:01:00   \n",
       "1  [poder, governo_bolsonaro, lava_jato, legislat...  2019-06-27 07:54:00   \n",
       "2  [mercado, indústria_4.0, tec, folhainvest, mer...  2019-06-27 10:41:00   \n",
       "3  [mercado, indústria_4.0, tec, folhainvest, mer...  2019-06-27 17:33:00   \n",
       "4  [mercado, indústria_4.0, tec, folhainvest, mer...  2019-06-27 16:58:00   \n",
       "\n",
       "                                                link         locations  \\\n",
       "0  https://www1.folha.uol.com.br/mercado/2019/06/...        [brasília]   \n",
       "1  https://www1.folha.uol.com.br/poder/2019/06/pf...        [brasília]   \n",
       "2  https://www1.folha.uol.com.br/mercado/2019/06/...  [paris, reuters]   \n",
       "3  https://www1.folha.uol.com.br/mercado/2019/06/...       [são_paulo]   \n",
       "4  https://www1.folha.uol.com.br/mercado/2019/06/...        [brasília]   \n",
       "\n",
       "                                           news_body  \\\n",
       "0  uma conjunção de fatores, como de categorias, ...   \n",
       "1  a polícia federal prendeu na manhã desta quint...   \n",
       "2  o presidente francês, emmanuel macron, afirmou...   \n",
       "3  o e a indecisão sobre a inclusão de estados e ...   \n",
       "4  o ministro da economia, paulo guedes, disse ne...   \n",
       "\n",
       "                                           sub_title  \\\n",
       "0  perto da reta final em comissão na câmara, pro...   \n",
       "1  ação deflagrada mira candidaturas laranjas pat...   \n",
       "2  frança está preocupada com impacto sobre sua i...   \n",
       "3  ibovespa chegou a recuar 1,26% nesta quinta, m...   \n",
       "4  presidente do senado disse que haverá conversa...   \n",
       "\n",
       "                                               title  \n",
       "0  desarticulação, pressão de partidos e lobby de...  \n",
       "1  pf prende assessores de ministro do turismo em...  \n",
       "2  macron diz que não terá acordo com mercosul se...  \n",
       "3  maia contém apreensão com atraso na previdênci...  \n",
       "4  guedes defende estados na previdência para que...  "
      ]
     },
     "execution_count": 7,
     "metadata": {},
     "output_type": "execute_result"
    }
   ],
   "source": [
    "news_data_file = open('../datasets/raw-data/folha_de_sao_paulo_news.json', 'r')\n",
    "news_json = json.load(news_data_file)\n",
    "\n",
    "news_df = json_normalize(news_json['news'])\n",
    "\n",
    "news_df.head(5)"
   ]
  },
  {
   "cell_type": "markdown",
   "metadata": {},
   "source": [
    "# Selecting only the columns that we are going to feed into the Neural Network"
   ]
  },
  {
   "cell_type": "code",
   "execution_count": 8,
   "metadata": {},
   "outputs": [
    {
     "data": {
      "text/html": [
       "<div>\n",
       "<style scoped>\n",
       "    .dataframe tbody tr th:only-of-type {\n",
       "        vertical-align: middle;\n",
       "    }\n",
       "\n",
       "    .dataframe tbody tr th {\n",
       "        vertical-align: top;\n",
       "    }\n",
       "\n",
       "    .dataframe thead th {\n",
       "        text-align: right;\n",
       "    }\n",
       "</style>\n",
       "<table border=\"1\" class=\"dataframe\">\n",
       "  <thead>\n",
       "    <tr style=\"text-align: right;\">\n",
       "      <th></th>\n",
       "      <th>date_published</th>\n",
       "      <th>title</th>\n",
       "    </tr>\n",
       "  </thead>\n",
       "  <tbody>\n",
       "    <tr>\n",
       "      <th>0</th>\n",
       "      <td>2019-06-27 21:01:00</td>\n",
       "      <td>desarticulação, pressão de partidos e lobby de...</td>\n",
       "    </tr>\n",
       "    <tr>\n",
       "      <th>1</th>\n",
       "      <td>2019-06-27 07:54:00</td>\n",
       "      <td>pf prende assessores de ministro do turismo em...</td>\n",
       "    </tr>\n",
       "    <tr>\n",
       "      <th>2</th>\n",
       "      <td>2019-06-27 10:41:00</td>\n",
       "      <td>macron diz que não terá acordo com mercosul se...</td>\n",
       "    </tr>\n",
       "    <tr>\n",
       "      <th>3</th>\n",
       "      <td>2019-06-27 17:33:00</td>\n",
       "      <td>maia contém apreensão com atraso na previdênci...</td>\n",
       "    </tr>\n",
       "    <tr>\n",
       "      <th>4</th>\n",
       "      <td>2019-06-27 16:58:00</td>\n",
       "      <td>guedes defende estados na previdência para que...</td>\n",
       "    </tr>\n",
       "  </tbody>\n",
       "</table>\n",
       "</div>"
      ],
      "text/plain": [
       "        date_published                                              title\n",
       "0  2019-06-27 21:01:00  desarticulação, pressão de partidos e lobby de...\n",
       "1  2019-06-27 07:54:00  pf prende assessores de ministro do turismo em...\n",
       "2  2019-06-27 10:41:00  macron diz que não terá acordo com mercosul se...\n",
       "3  2019-06-27 17:33:00  maia contém apreensão com atraso na previdênci...\n",
       "4  2019-06-27 16:58:00  guedes defende estados na previdência para que..."
      ]
     },
     "execution_count": 8,
     "metadata": {},
     "output_type": "execute_result"
    }
   ],
   "source": [
    "news_df = news_df[['date_published', 'title']]\n",
    "\n",
    "news_df.head(5)"
   ]
  },
  {
   "cell_type": "markdown",
   "metadata": {},
   "source": [
    "# Saving the clean dataset into a file"
   ]
  },
  {
   "cell_type": "code",
   "execution_count": 5,
   "metadata": {},
   "outputs": [],
   "source": [
    "news_df.to_csv('../datasets/pre-processed/news.csv', index= False, encoding='utf-8')"
   ]
  },
  {
   "cell_type": "code",
   "execution_count": null,
   "metadata": {},
   "outputs": [],
   "source": []
  }
 ],
 "metadata": {
  "kernelspec": {
   "display_name": "Python 3",
   "language": "python",
   "name": "python3"
  },
  "language_info": {
   "codemirror_mode": {
    "name": "ipython",
    "version": 3
   },
   "file_extension": ".py",
   "mimetype": "text/x-python",
   "name": "python",
   "nbconvert_exporter": "python",
   "pygments_lexer": "ipython3",
   "version": "3.7.3"
  }
 },
 "nbformat": 4,
 "nbformat_minor": 2
}
