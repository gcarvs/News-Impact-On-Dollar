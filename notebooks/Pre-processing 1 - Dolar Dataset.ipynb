{
 "cells": [
  {
   "cell_type": "markdown",
   "metadata": {},
   "source": [
    "# Getting the US Dollar exchange rate reports\n",
    "\n",
    "The first step is to get the US Dollar exchange rate reporst that happens throwout the day. There are three types of reports\n",
    "- Abertura(opening)\n",
    "- Intermediary(Intermediário)\n",
    "- Closing(Fechamento)\n",
    "\n",
    "We are getting the dataset from the API: [Banco Central do Brasil Dollar API](https://olinda.bcb.gov.br/olinda/servico/PTAX/versao/v1/aplicacao#!/)\n",
    "\n"
   ]
  },
  {
   "cell_type": "code",
   "execution_count": 10,
   "metadata": {},
   "outputs": [
    {
     "data": {
      "text/html": [
       "<div>\n",
       "<style scoped>\n",
       "    .dataframe tbody tr th:only-of-type {\n",
       "        vertical-align: middle;\n",
       "    }\n",
       "\n",
       "    .dataframe tbody tr th {\n",
       "        vertical-align: top;\n",
       "    }\n",
       "\n",
       "    .dataframe thead th {\n",
       "        text-align: right;\n",
       "    }\n",
       "</style>\n",
       "<table border=\"1\" class=\"dataframe\">\n",
       "  <thead>\n",
       "    <tr style=\"text-align: right;\">\n",
       "      <th></th>\n",
       "      <th>cotacaoCompra</th>\n",
       "      <th>dataHoraCotacao</th>\n",
       "      <th>tipoBoletim</th>\n",
       "    </tr>\n",
       "  </thead>\n",
       "  <tbody>\n",
       "    <tr>\n",
       "      <th>1234</th>\n",
       "      <td>3.8297</td>\n",
       "      <td>2019-06-28 10:02:17.893</td>\n",
       "      <td>Abertura</td>\n",
       "    </tr>\n",
       "    <tr>\n",
       "      <th>1235</th>\n",
       "      <td>3.8347</td>\n",
       "      <td>2019-06-28 11:05:18.692</td>\n",
       "      <td>Intermediário</td>\n",
       "    </tr>\n",
       "    <tr>\n",
       "      <th>1236</th>\n",
       "      <td>3.8300</td>\n",
       "      <td>2019-06-28 12:06:28.871</td>\n",
       "      <td>Intermediário</td>\n",
       "    </tr>\n",
       "    <tr>\n",
       "      <th>1237</th>\n",
       "      <td>3.8319</td>\n",
       "      <td>2019-06-28 13:06:29.675</td>\n",
       "      <td>Intermediário</td>\n",
       "    </tr>\n",
       "    <tr>\n",
       "      <th>1238</th>\n",
       "      <td>3.8316</td>\n",
       "      <td>2019-06-28 13:06:29.684</td>\n",
       "      <td>Fechamento</td>\n",
       "    </tr>\n",
       "  </tbody>\n",
       "</table>\n",
       "</div>"
      ],
      "text/plain": [
       "      cotacaoCompra          dataHoraCotacao    tipoBoletim\n",
       "1234         3.8297  2019-06-28 10:02:17.893       Abertura\n",
       "1235         3.8347  2019-06-28 11:05:18.692  Intermediário\n",
       "1236         3.8300  2019-06-28 12:06:28.871  Intermediário\n",
       "1237         3.8319  2019-06-28 13:06:29.675  Intermediário\n",
       "1238         3.8316  2019-06-28 13:06:29.684     Fechamento"
      ]
     },
     "execution_count": 10,
     "metadata": {},
     "output_type": "execute_result"
    }
   ],
   "source": [
    "import requests\n",
    "import numpy as np\n",
    "\n",
    "from pandas.io.json import json_normalize\n",
    "\n",
    "request = requests.get(\"https://olinda.bcb.gov.br/olinda/servico/PTAX/versao/v1/odata/CotacaoMoedaPeriodo(moeda=@moeda,dataInicial=@dataInicial,dataFinalCotacao=@dataFinalCotacao)?@moeda='USD'&@dataInicial='07-01-2018'&@dataFinalCotacao='06-28-2019'&$format=json&$select=cotacaoCompra,dataHoraCotacao,tipoBoletim\")\n",
    "\n",
    "dolar_rates_json = request.json()\n",
    "\n",
    "dolar_rates = json_normalize(dolar_rates_json['value'])\n",
    "\n",
    "dolar_rates.tail(5)"
   ]
  },
  {
   "cell_type": "markdown",
   "metadata": {},
   "source": [
    "# Translatting the dataframe to english\n",
    "\n",
    "Simply translatting the portuguese words to english."
   ]
  },
  {
   "cell_type": "code",
   "execution_count": 11,
   "metadata": {},
   "outputs": [
    {
     "data": {
      "text/html": [
       "<div>\n",
       "<style scoped>\n",
       "    .dataframe tbody tr th:only-of-type {\n",
       "        vertical-align: middle;\n",
       "    }\n",
       "\n",
       "    .dataframe tbody tr th {\n",
       "        vertical-align: top;\n",
       "    }\n",
       "\n",
       "    .dataframe thead th {\n",
       "        text-align: right;\n",
       "    }\n",
       "</style>\n",
       "<table border=\"1\" class=\"dataframe\">\n",
       "  <thead>\n",
       "    <tr style=\"text-align: right;\">\n",
       "      <th></th>\n",
       "      <th>usd_quotation</th>\n",
       "      <th>quote_timestamp</th>\n",
       "      <th>report_type</th>\n",
       "    </tr>\n",
       "  </thead>\n",
       "  <tbody>\n",
       "    <tr>\n",
       "      <th>1234</th>\n",
       "      <td>3.8297</td>\n",
       "      <td>2019-06-28 10:02:17.893</td>\n",
       "      <td>opening</td>\n",
       "    </tr>\n",
       "    <tr>\n",
       "      <th>1235</th>\n",
       "      <td>3.8347</td>\n",
       "      <td>2019-06-28 11:05:18.692</td>\n",
       "      <td>intermediary</td>\n",
       "    </tr>\n",
       "    <tr>\n",
       "      <th>1236</th>\n",
       "      <td>3.8300</td>\n",
       "      <td>2019-06-28 12:06:28.871</td>\n",
       "      <td>intermediary</td>\n",
       "    </tr>\n",
       "    <tr>\n",
       "      <th>1237</th>\n",
       "      <td>3.8319</td>\n",
       "      <td>2019-06-28 13:06:29.675</td>\n",
       "      <td>intermediary</td>\n",
       "    </tr>\n",
       "    <tr>\n",
       "      <th>1238</th>\n",
       "      <td>3.8316</td>\n",
       "      <td>2019-06-28 13:06:29.684</td>\n",
       "      <td>closing</td>\n",
       "    </tr>\n",
       "  </tbody>\n",
       "</table>\n",
       "</div>"
      ],
      "text/plain": [
       "      usd_quotation          quote_timestamp   report_type\n",
       "1234         3.8297  2019-06-28 10:02:17.893       opening\n",
       "1235         3.8347  2019-06-28 11:05:18.692  intermediary\n",
       "1236         3.8300  2019-06-28 12:06:28.871  intermediary\n",
       "1237         3.8319  2019-06-28 13:06:29.675  intermediary\n",
       "1238         3.8316  2019-06-28 13:06:29.684       closing"
      ]
     },
     "execution_count": 11,
     "metadata": {},
     "output_type": "execute_result"
    }
   ],
   "source": [
    "dolar_rates.columns = ['usd_quotation', 'quote_timestamp', 'report_type']\n",
    "dolar_rates = dolar_rates.replace('Abertura', 'opening')\n",
    "dolar_rates = dolar_rates.replace('Intermediário', 'intermediary')\n",
    "dolar_rates = dolar_rates.replace('Fechamento', 'closing')\n",
    "\n",
    "dolar_rates.tail(5)"
   ]
  },
  {
   "cell_type": "markdown",
   "metadata": {},
   "source": [
    "# Categorizing US Dollar ratings\n",
    "\n",
    "Now we are categorizing each rating, giving them one of three classes:\n",
    "\n",
    "1. \"UP\" - If the USD_QUOTATION is greater than the previous value\n",
    "2. \"STEADY\"- If the USD_QUOTATION is equal to the previous value\n",
    "3. \"DOWN\" - If the USD_QUOTATION is smaller than the previous value"
   ]
  },
  {
   "cell_type": "code",
   "execution_count": 12,
   "metadata": {},
   "outputs": [
    {
     "data": {
      "text/html": [
       "<div>\n",
       "<style scoped>\n",
       "    .dataframe tbody tr th:only-of-type {\n",
       "        vertical-align: middle;\n",
       "    }\n",
       "\n",
       "    .dataframe tbody tr th {\n",
       "        vertical-align: top;\n",
       "    }\n",
       "\n",
       "    .dataframe thead th {\n",
       "        text-align: right;\n",
       "    }\n",
       "</style>\n",
       "<table border=\"1\" class=\"dataframe\">\n",
       "  <thead>\n",
       "    <tr style=\"text-align: right;\">\n",
       "      <th></th>\n",
       "      <th>quote_timestamp</th>\n",
       "      <th>variation</th>\n",
       "    </tr>\n",
       "  </thead>\n",
       "  <tbody>\n",
       "    <tr>\n",
       "      <th>1234</th>\n",
       "      <td>2019-06-28 10:02:17.893</td>\n",
       "      <td>down</td>\n",
       "    </tr>\n",
       "    <tr>\n",
       "      <th>1235</th>\n",
       "      <td>2019-06-28 11:05:18.692</td>\n",
       "      <td>up</td>\n",
       "    </tr>\n",
       "    <tr>\n",
       "      <th>1236</th>\n",
       "      <td>2019-06-28 12:06:28.871</td>\n",
       "      <td>down</td>\n",
       "    </tr>\n",
       "    <tr>\n",
       "      <th>1237</th>\n",
       "      <td>2019-06-28 13:06:29.675</td>\n",
       "      <td>up</td>\n",
       "    </tr>\n",
       "    <tr>\n",
       "      <th>1238</th>\n",
       "      <td>2019-06-28 13:06:29.684</td>\n",
       "      <td>down</td>\n",
       "    </tr>\n",
       "  </tbody>\n",
       "</table>\n",
       "</div>"
      ],
      "text/plain": [
       "              quote_timestamp variation\n",
       "1234  2019-06-28 10:02:17.893      down\n",
       "1235  2019-06-28 11:05:18.692        up\n",
       "1236  2019-06-28 12:06:28.871      down\n",
       "1237  2019-06-28 13:06:29.675        up\n",
       "1238  2019-06-28 13:06:29.684      down"
      ]
     },
     "execution_count": 12,
     "metadata": {},
     "output_type": "execute_result"
    }
   ],
   "source": [
    "dolar_rates['variation'] = np.where(dolar_rates['usd_quotation'].diff() > 0, 'up', \n",
    "                           np.where(dolar_rates['usd_quotation'].diff() < 0, 'down', 'steady'))\n",
    "\n",
    "dolar_rates = dolar_rates.drop(['usd_quotation', 'report_type'], axis=1)\n",
    "\n",
    "dolar_rates.tail(5)"
   ]
  },
  {
   "cell_type": "code",
   "execution_count": 13,
   "metadata": {},
   "outputs": [],
   "source": [
    "dolar_rates.to_csv('../datasets/pre-processed/dolar_rates.csv', index= False, encoding='utf-8')"
   ]
  }
 ],
 "metadata": {
  "kernelspec": {
   "display_name": "Python 3",
   "language": "python",
   "name": "python3"
  },
  "language_info": {
   "codemirror_mode": {
    "name": "ipython",
    "version": 3
   },
   "file_extension": ".py",
   "mimetype": "text/x-python",
   "name": "python",
   "nbconvert_exporter": "python",
   "pygments_lexer": "ipython3",
   "version": "3.7.3"
  }
 },
 "nbformat": 4,
 "nbformat_minor": 2
}
