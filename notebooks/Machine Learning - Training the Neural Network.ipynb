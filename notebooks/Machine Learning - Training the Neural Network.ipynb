{
 "cells": [
  {
   "cell_type": "code",
   "execution_count": 4,
   "metadata": {},
   "outputs": [],
   "source": [
    "import tensorflow as tf\n",
    "\n",
    "from numpy import genfromtxt\n",
    "from sklearn import preprocessing, model_selection\n",
    "from tensorflow import keras\n",
    "from tensorflow.metrics import precision\n",
    "import matplotlib.pyplot as plt \n",
    "\n",
    "features = genfromtxt('../datasets/final-data/features.csv', delimiter=',')\n",
    "labels = genfromtxt('../datasets/final-data/labels.csv', delimiter=',')\n",
    "embedding_matrix = genfromtxt('../datasets/final-data/embedding_matrix.csv', delimiter=',')\n",
    "\n",
    "train_x, test_x, train_y, test_y = model_selection.train_test_split(features,labels,test_size = 0.3, random_state = 0)"
   ]
  },
  {
   "cell_type": "code",
   "execution_count": 9,
   "metadata": {},
   "outputs": [
    {
     "data": {
      "text/plain": [
       "(2949, 20)"
      ]
     },
     "execution_count": 9,
     "metadata": {},
     "output_type": "execute_result"
    }
   ],
   "source": [
    "train_x.shape"
   ]
  },
  {
   "cell_type": "code",
   "execution_count": 37,
   "metadata": {},
   "outputs": [
    {
     "name": "stdout",
     "output_type": "stream",
     "text": [
      "Model: \"sequential_13\"\n",
      "_________________________________________________________________\n",
      "Layer (type)                 Output Shape              Param #   \n",
      "=================================================================\n",
      "embedding_11 (Embedding)     (None, 20, 300)           2079900   \n",
      "_________________________________________________________________\n",
      "lstm_11 (LSTM)               (None, 100)               160400    \n",
      "_________________________________________________________________\n",
      "dropout_10 (Dropout)         (None, 100)               0         \n",
      "_________________________________________________________________\n",
      "dense_16 (Dense)             (None, 3)                 303       \n",
      "=================================================================\n",
      "Total params: 2,240,603\n",
      "Trainable params: 160,703\n",
      "Non-trainable params: 2,079,900\n",
      "_________________________________________________________________\n"
     ]
    }
   ],
   "source": [
    "input_dim = len(embedding_matrix)\n",
    "\n",
    "model = keras.Sequential()\n",
    "\n",
    "model.add(\n",
    "    keras.layers.Embedding(\n",
    "        input_dim = input_dim,\n",
    "        output_dim = 300, # The output dimensions will be 300(the word vector dimension)\n",
    "        weights = [embedding_matrix], # Pre loading the weights with the word vectors\n",
    "        input_length = 20, # The max length of the sentences\n",
    "        mask_zero = True, # Use zero as default value when missing the word\n",
    "        trainable = False # Disable tensorflow from re-training the word vectors\n",
    "    )\n",
    ")\n",
    "\n",
    "model.add(keras.layers.LSTM(units = 100, activation='relu'))\n",
    "model.add(keras.layers.Dropout(0.2))\n",
    "model.add(keras.layers.Dense(3,activation='softmax'))\n",
    "\n",
    "model.summary()"
   ]
  },
  {
   "cell_type": "code",
   "execution_count": 38,
   "metadata": {},
   "outputs": [
    {
     "name": "stdout",
     "output_type": "stream",
     "text": [
      "Train on 2359 samples, validate on 590 samples\n",
      "Epoch 1/20\n",
      "2359/2359 [==============================] - 6s 3ms/sample - loss: 0.7763 - acc: 0.5032 - val_loss: 0.7466 - val_acc: 0.5136\n",
      "Epoch 2/20\n",
      "2359/2359 [==============================] - 5s 2ms/sample - loss: 0.7338 - acc: 0.5345 - val_loss: 0.7405 - val_acc: 0.5254\n",
      "Epoch 3/20\n",
      "2359/2359 [==============================] - 4s 2ms/sample - loss: 0.7200 - acc: 0.5723 - val_loss: 0.7380 - val_acc: 0.5627\n",
      "Epoch 4/20\n",
      "2359/2359 [==============================] - 4s 2ms/sample - loss: 0.7044 - acc: 0.6087 - val_loss: 0.7496 - val_acc: 0.5339\n",
      "Epoch 5/20\n",
      "2359/2359 [==============================] - 4s 2ms/sample - loss: 0.6734 - acc: 0.6316 - val_loss: 0.7395 - val_acc: 0.5678\n",
      "Epoch 6/20\n",
      "2359/2359 [==============================] - 5s 2ms/sample - loss: 0.6392 - acc: 0.6719 - val_loss: 0.7583 - val_acc: 0.5475\n",
      "Epoch 7/20\n",
      "2359/2359 [==============================] - 6s 2ms/sample - loss: 0.5929 - acc: 0.6978 - val_loss: 0.7981 - val_acc: 0.5424\n",
      "Epoch 8/20\n",
      "2359/2359 [==============================] - 6s 2ms/sample - loss: 0.5264 - acc: 0.7546 - val_loss: 0.8358 - val_acc: 0.5356\n"
     ]
    }
   ],
   "source": [
    "model.compile(optimizer= tf.train.AdamOptimizer(0.001),\n",
    "              loss='sparse_categorical_crossentropy',\n",
    "              metrics=['acc'])\n",
    "\n",
    "\n",
    "early_stop = keras.callbacks.EarlyStopping(monitor='val_loss', patience=5)\n",
    "history = model.fit(\n",
    "    train_x, \n",
    "    train_y, \n",
    "    epochs = 20, \n",
    "    validation_split=0.2, \n",
    "    batch_size = 32,  \n",
    "    verbose=1, \n",
    "    shuffle=True,\n",
    "    callbacks=[early_stop]\n",
    ")"
   ]
  },
  {
   "cell_type": "code",
   "execution_count": 50,
   "metadata": {},
   "outputs": [
    {
     "data": {
      "image/png": "[encoded data removed]",
      "text/plain": [
       "<Figure size 432x288 with 1 Axes>"
      ]
     },
     "metadata": {
      "needs_background": "light"
     },
     "output_type": "display_data"
    }
   ],
   "source": [
    "import numpy as np\n",
    "predictions = model.predict(\n",
    "    test_x,\n",
    "    batch_size=None,\n",
    "    verbose=0,\n",
    "    steps=None,\n",
    "    callbacks=None,\n",
    "    max_queue_size=10,\n",
    "    workers=1,\n",
    "    use_multiprocessing=False\n",
    ")\n",
    "\n",
    "\n",
    "predictions = np.argmax(predictions, axis=1)\n",
    "\n",
    "plt.style.use('seaborn-deep')\n",
    "\n",
    "bins = np.linspace(0, 2, 10)\n",
    "\n",
    "plt.hist([predictions, test_y], bins, label=['Predictions', 'Actual labels'])\n",
    "plt.legend(loc='upper left')\n",
    "plt.show()\n"
   ]
  },
  {
   "cell_type": "code",
   "execution_count": 69,
   "metadata": {},
   "outputs": [
    {
     "name": "stderr",
     "output_type": "stream",
     "text": [
      "/Users/gcarvs/anaconda3/lib/python3.7/site-packages/sklearn/metrics/classification.py:1143: UndefinedMetricWarning: Precision and F-score are ill-defined and being set to 0.0 in labels with no predicted samples.\n",
      "  'precision', 'predicted', average, warn_for)\n"
     ]
    },
    {
     "data": {
      "text/plain": [
       "(array([0.53153153, 0.        , 0.5274056 ]),\n",
       " array([0.38311688, 0.        , 0.67868339]),\n",
       " array([0.44528302, 0.        , 0.59355723]))"
      ]
     },
     "execution_count": 69,
     "metadata": {},
     "output_type": "execute_result"
    }
   ],
   "source": [
    "from sklearn.metrics import precision_recall_fscore_support\n",
    "\n",
    "metrics = precision_recall_fscore_support(y_true=test_y, y_pred=predictions, average=None)\n",
    "\n",
    "metrics = metrics[0:3]\n",
    "\n",
    "metrics"
   ]
  },
  {
   "cell_type": "code",
   "execution_count": null,
   "metadata": {},
   "outputs": [],
   "source": []
  }
 ],
 "metadata": {
  "kernelspec": {
   "display_name": "Python 3",
   "language": "python",
   "name": "python3"
  },
  "language_info": {
   "codemirror_mode": {
    "name": "ipython",
    "version": 3
   },
   "file_extension": ".py",
   "mimetype": "text/x-python",
   "name": "python",
   "nbconvert_exporter": "python",
   "pygments_lexer": "ipython3",
   "version": "3.7.3"
  }
 },
 "nbformat": 4,
 "nbformat_minor": 2
}
